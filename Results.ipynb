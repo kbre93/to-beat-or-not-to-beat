{
 "cells": [
  {
   "cell_type": "code",
   "execution_count": 2,
   "metadata": {},
   "outputs": [
    {
     "name": "stdout",
     "output_type": "stream",
     "text": [
      "The tensorboard extension is already loaded. To reload it, use:\n",
      "  %reload_ext tensorboard\n"
     ]
    },
    {
     "data": {
      "text/html": [
       "\n",
       "      <iframe id=\"tensorboard-frame-191d96a84c4b3ab2\" width=\"100%\" height=\"800\" frameborder=\"0\">\n",
       "      </iframe>\n",
       "      <script>\n",
       "        (function() {\n",
       "          const frame = document.getElementById(\"tensorboard-frame-191d96a84c4b3ab2\");\n",
       "          const url = new URL(\"/\", window.location);\n",
       "          const port = 6007;\n",
       "          if (port) {\n",
       "            url.port = port;\n",
       "          }\n",
       "          frame.src = url;\n",
       "        })();\n",
       "      </script>\n",
       "    "
      ],
      "text/plain": [
       "<IPython.core.display.HTML object>"
      ]
     },
     "metadata": {},
     "output_type": "display_data"
    }
   ],
   "source": [
    "# %load_ext tensorboard\n",
    "%tensorboard --logdir \"logs/20240420_165335\"\n"
   ]
  },
  {
   "cell_type": "code",
   "execution_count": 18,
   "metadata": {},
   "outputs": [
    {
     "name": "stdout",
     "output_type": "stream",
     "text": [
      "10-fold Avg. Accuracy:\t98.1% \n",
      "10-fold Avg. Precision:\t96.6% \n",
      "10-fold Avg. Recall:\t98.4%\n"
     ]
    }
   ],
   "source": [
    "# Calculate average metrics across the k-runs\n",
    "import json\n",
    "import numpy as np\n",
    "import matplotlib.pyplot as plt\n",
    "\n",
    "test_scores_path = \"models/baseline/3_3/test_scores.json\"\n",
    "\n",
    "with open(test_scores_path, \"r\") as f:\n",
    "    test_scores = json.load(f)\n",
    "\n",
    "\n",
    "kfold_accuracy = np.array([elem['acc'] for elem in test_scores])\n",
    "kfold_precision = np.array([elem['prec'] for elem in test_scores])\n",
    "kfold_recall = np.array([elem['rec'] for elem in test_scores])\n",
    "k = len(test_scores)\n",
    "print(f\"{k}-fold Avg. Accuracy:\\t{100*kfold_accuracy.mean():.1f}% \\n\"\n",
    "      f\"{k}-fold Avg. Precision:\\t{100*kfold_precision.mean():.1f}% \\n\"\n",
    "      f\"{k}-fold Avg. Recall:\\t{100*kfold_recall.mean():.1f}%\")\n",
    "\n"
   ]
  },
  {
   "cell_type": "code",
   "execution_count": null,
   "metadata": {},
   "outputs": [],
   "source": []
  }
 ],
 "metadata": {
  "kernelspec": {
   "display_name": "venv",
   "language": "python",
   "name": "python3"
  },
  "language_info": {
   "codemirror_mode": {
    "name": "ipython",
    "version": 3
   },
   "file_extension": ".py",
   "mimetype": "text/x-python",
   "name": "python",
   "nbconvert_exporter": "python",
   "pygments_lexer": "ipython3",
   "version": "3.10.12"
  }
 },
 "nbformat": 4,
 "nbformat_minor": 2
}
