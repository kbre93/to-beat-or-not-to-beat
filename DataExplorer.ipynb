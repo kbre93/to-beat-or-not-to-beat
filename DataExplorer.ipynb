{
 "cells": [
  {
   "cell_type": "code",
   "execution_count": null,
   "metadata": {},
   "outputs": [],
   "source": [
    "import json\n",
    "import numpy as np\n",
    "import matplotlib.pyplot as plt\n",
    "\n",
    "test_scores_path = \"models/20240412_091432/test_scores.json\"\n",
    "\n",
    "with open(test_scores_path, \"r\") as f:\n",
    "    test_scores = json.load(f)\n",
    "\n",
    "\n",
    "kfold_accuracy = np.array([elem['acc'] for elem in test_scores])\n",
    "kfold_precision = np.array([elem['prec'] for elem in test_scores])\n",
    "kfold_recall = np.array([elem['rec'] for elem in test_scores])\n",
    "print(f\"Accuracy:\\t{100*kfold_accuracy.mean():.1f}% \\nPrecision:\\t{100*kfold_precision.mean():.1f}% \\nRecall:\\t\\t{100*kfold_recall.mean():.1f}%\")\n",
    "\n"
   ]
  },
  {
   "cell_type": "code",
   "execution_count": null,
   "metadata": {},
   "outputs": [],
   "source": [
    "# Displaying the Receiver Operating Characteristic\n",
    "from sklearn.metrics import roc_curve, roc_auc_score\n",
    "import matplotlib.pyplot as plt\n",
    "\n",
    "y_scores = model.predict(X_test, verbose=0)\n",
    "y_scores = y_scores.flatten()\n",
    "fpr, tpr, thresholds = roc_curve(y_test, y_scores)\n",
    "auc = roc_auc_score(y_test, y_scores)\n",
    "\n",
    "plt.plot(fpr, tpr)\n",
    "plt.plot([0, 1], [0, 1], '--', color='black')\n",
    "plt.xlabel('False positive rate')\n",
    "plt.ylabel('True positive rate')\n",
    "plt.title(f\"AUC: {auc:.4f}\")\n"
   ]
  },
  {
   "cell_type": "code",
   "execution_count": null,
   "metadata": {},
   "outputs": [],
   "source": [
    "a = np.array([[1, 2, 3],[3, 4, 5]])\n",
    "print(len(a))"
   ]
  },
  {
   "cell_type": "code",
   "execution_count": null,
   "metadata": {},
   "outputs": [],
   "source": []
  }
 ],
 "metadata": {
  "kernelspec": {
   "display_name": "venv",
   "language": "python",
   "name": "python3"
  },
  "language_info": {
   "codemirror_mode": {
    "name": "ipython",
    "version": 3
   },
   "file_extension": ".py",
   "mimetype": "text/x-python",
   "name": "python",
   "nbconvert_exporter": "python",
   "pygments_lexer": "ipython3",
   "version": "3.10.12"
  }
 },
 "nbformat": 4,
 "nbformat_minor": 2
}
